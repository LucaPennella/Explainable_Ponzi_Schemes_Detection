{
  "cells": [
    {
      "cell_type": "code",
      "execution_count": 1,
      "metadata": {
        "id": "AdV_kp8-hZgM"
      },
      "outputs": [],
      "source": [
        "import numpy as np\n",
        "import pandas as pd\n",
        "import seaborn as sns # libreria utile per matrice di confusione\n",
        "# import plotly.express as px\n",
        "from collections import Counter\n",
        "from matplotlib import pyplot as plt\n",
        "from sklearn import tree\n",
        "from sklearn.metrics import accuracy_score, precision_score, recall_score, f1_score, fbeta_score, make_scorer, confusion_matrix, precision_recall_curve\n",
        "from sklearn.model_selection import train_test_split, GridSearchCV\n",
        "from sklearn.tree import DecisionTreeClassifier\n",
        "from sklearn.ensemble import RandomForestClassifier\n",
        "import lightgbm as lgb\n",
        "from sklearn.preprocessing import StandardScaler\n",
        "from sklearn.decomposition import PCA\n",
        "from sklearn.pipeline import Pipeline\n",
        "import shap\n",
        "import pickle\n",
        "from sklearn.feature_selection import RFE\n",
        "from sklearn.metrics import roc_curve, roc_auc_score\n",
        "from sklearn.inspection import PartialDependenceDisplay\n",
        "import sys"
      ]
    },
    {
      "cell_type": "code",
      "execution_count": 2,
      "metadata": {
        "id": "s5sb_6bboHls"
      },
      "outputs": [],
      "source": [
        "plt.rcParams[\"mathtext.fontset\"]\n",
        "plt.rcParams.update({'font.size': 28, 'font.family': 'STIXGeneral', 'mathtext.fontset': 'stix'})"
      ]
    },
    {
      "cell_type": "code",
      "execution_count": 3,
      "metadata": {
        "id": "QLu-znbYofiY"
      },
      "outputs": [],
      "source": [
        "transaction_frequency_opcode = ['address', 'balance', 'lifetime', 'tx_in', 'tx_out', 'investment_in',\n",
        " 'payment_out', 'investment_to_contract/tx_in', 'payment_from_contract/tx_out',\n",
        " '#addresses_paying_contract', '#addresses_paid_by_contract', 'mean_v1', 'sdev_v1', 'mean_v2', 'sdev_v2', 'paid_rate',\n",
        " 'paid_one', 'percentage_some_tx_in', 'sdev_tx_in', 'percentage_some_tx_out', 'sdev_tx_out', 'owner_gets_eth_Wo_investing',\n",
        " 'owner_gets_eth_investing', 'owner_no_eth', 'PUSH', 'DUP', 'JUMPDEST', 'STOP', 'MSTORE', 'JUMPI', 'REVERT', 'CALLVALUE',\n",
        " 'ISZERO', 'CODECOPY', 'RETURN', 'LOG', 'SHA3', 'MSTORE8', 'SWAP', 'POP', 'ADD', 'MLOAD', 'AND', 'SUB', 'CALLDATALOAD', 'EXP',\n",
        " 'MUL', 'SLOAD', 'EQ', 'JUMP', 'DIV', 'CALLER', 'CALLDATACOPY', 'SSTORE', 'NOT', 'CALL', 'LT', 'GT', 'OR', 'ADDRESS', 'TIMESTAMP',\n",
        " 'GASLIMIT', 'GAS', 'ORIGIN', 'BALANCE', 'CALLDATASIZE', 'SAR', 'MSIZE', 'CODESIZE', 'COINBASE', 'CREATE2', 'EXTCODESIZE', 'CALLCODE', 'SHL',\n",
        " 'BLOCKHASH', 'RETURNDATASIZE', 'SHR', 'GETPC', 'DELEGATECALL', 'MOD', 'ADDMOD', 'NUMBER', 'XOR', 'SLT', 'EXTCODECOPY', 'MULMOD', 'CREATE', 'SELFDESTRUCT',\n",
        " 'STATICCALL', 'RETURNDATACOPY', 'SGT', 'DIFFICULTY', 'SMOD', 'BYTE', 'SIGNEXTEND', 'CHAINID', 'SELFBALANCE', 'GASPRICE', 'EXTCODEHASH', 'SDIV', 'target']"
      ]
    },
    {
      "cell_type": "code",
      "execution_count": 4,
      "metadata": {
        "id": "rptyORm-wD5U"
      },
      "outputs": [],
      "source": [
        "best_features_set = ['lifetime',\n",
        " 'tx_in',\n",
        " 'investment_to_contract/tx_in',\n",
        " 'mean_v1',\n",
        " 'sdev_v1',\n",
        " 'sdev_v2',\n",
        " 'paid_one',\n",
        " 'sdev_tx_in',\n",
        " 'PUSH',\n",
        " 'DUP',\n",
        " 'JUMPDEST',\n",
        " 'STOP',\n",
        " 'MSTORE',\n",
        " 'JUMPI',\n",
        " 'REVERT',\n",
        " 'CALLVALUE',\n",
        " 'CODECOPY',\n",
        " 'RETURN',\n",
        " 'LOG',\n",
        " 'SHA3',\n",
        " 'MSTORE8',\n",
        " 'SWAP',\n",
        " 'POP',\n",
        " 'ADD',\n",
        " 'MLOAD',\n",
        " 'AND',\n",
        " 'SUB',\n",
        " 'CALLDATALOAD',\n",
        " 'EXP',\n",
        " 'MUL',\n",
        " 'SLOAD',\n",
        " 'EQ',\n",
        " 'DIV',\n",
        " 'CALLER',\n",
        " 'CALLDATACOPY',\n",
        " 'SSTORE',\n",
        " 'NOT',\n",
        " 'CALL',\n",
        " 'LT',\n",
        " 'ADDRESS',\n",
        " 'GASLIMIT',\n",
        " 'GAS',\n",
        " 'ORIGIN',\n",
        " 'BALANCE',\n",
        " 'COINBASE',\n",
        " 'MULMOD',\n",
        " 'SGT']"
      ]
    },
    {
      "cell_type": "code",
      "execution_count": null,
      "metadata": {
        "id": "99Hp92vnevlN"
      },
      "outputs": [],
      "source": [
        "ds_full_path= (r\"C:\\Users\\lucap\\OneDrive\\Desktop\\Scam on blockchain\\Smart Ponzi\\DS_deployed_bytecode.csv\")\n",
        "db = pd.read_csv(ds_full_path, header = 0, delimiter = ',')\n",
        "db = db.fillna(0)\n",
        "db"
      ]
    },
    {
      "cell_type": "code",
      "execution_count": null,
      "metadata": {
        "id": "_Amz_XFTvGLh"
      },
      "outputs": [],
      "source": [
        "df_transaction_weighted_opcode = db[transaction_frequency_opcode].copy()\n",
        "\n",
        "y = df_transaction_weighted_opcode.loc[:, ['target']].values\n",
        "y = pd.DataFrame(y,columns=['target'])\n",
        "\n",
        "dataset_account = db.iloc[:, 0:24]\n",
        "dataset_opcode = db.iloc[:, 24:100]\n",
        "\n",
        "dataset_opcode['all_opcode'] = dataset_opcode[list(dataset_opcode.columns)].sum(axis=1) #generate all_opcode\n",
        "dataset_opcode = dataset_opcode[:].div(dataset_opcode['all_opcode'], axis=0)\n",
        "dataset_opcode = dataset_opcode.drop(['all_opcode'], axis = 1)\n",
        "\n",
        "df_transaction_weighted_opcode = pd.concat([dataset_account, dataset_opcode, y], axis=1)\n",
        "df_transaction_weighted_opcode = df_transaction_weighted_opcode.fillna(0)\n",
        "\n",
        "df_transaction_weighted_opcode"
      ]
    },
    {
      "cell_type": "code",
      "execution_count": 7,
      "metadata": {},
      "outputs": [],
      "source": [
        "col_name = transaction_frequency_opcode[1:-1]"
      ]
    },
    {
      "cell_type": "code",
      "execution_count": 8,
      "metadata": {
        "id": "7G_PQ2vCvGLi"
      },
      "outputs": [],
      "source": [
        "addr= df_transaction_weighted_opcode.iloc[:, 0]\n",
        "X = df_transaction_weighted_opcode.iloc[:, 1:-1].values # rimuovo la prima colonna che contiene gli indirizzi\n",
        "y = df_transaction_weighted_opcode.loc[:, ['target']].values\n",
        "\n",
        "addr = pd.DataFrame(addr)\n",
        "X = pd.DataFrame(X)\n",
        "X.columns = col_name"
      ]
    },
    {
      "cell_type": "code",
      "execution_count": 9,
      "metadata": {
        "id": "xq0a1nazlVCE"
      },
      "outputs": [],
      "source": [
        "X['address'] = addr['address']"
      ]
    },
    {
      "cell_type": "code",
      "execution_count": 10,
      "metadata": {
        "id": "E8jB9_vVxAMP"
      },
      "outputs": [],
      "source": [
        "X_train, X_test, y_train, y_test = train_test_split(X, y, test_size=0.15, random_state = 42, stratify=y)"
      ]
    },
    {
      "cell_type": "code",
      "execution_count": null,
      "metadata": {},
      "outputs": [],
      "source": [
        "X_train"
      ]
    },
    {
      "cell_type": "code",
      "execution_count": 12,
      "metadata": {
        "id": "308pb0_7eRnv"
      },
      "outputs": [],
      "source": [
        "df_X_train_adr = pd.DataFrame(X_train,columns=df_transaction_weighted_opcode.columns[0:1])\n",
        "df_X_test_adr = pd.DataFrame(X_test,columns=df_transaction_weighted_opcode.columns[0:1])"
      ]
    },
    {
      "cell_type": "code",
      "execution_count": 13,
      "metadata": {
        "id": "PCjCIl_KeilX"
      },
      "outputs": [],
      "source": [
        "X_train = X_train.iloc[:, :-1].copy()\n",
        "X_test = X_test.iloc[:, :-1].copy()"
      ]
    },
    {
      "cell_type": "code",
      "execution_count": 14,
      "metadata": {
        "id": "WZeoJYN1xK5s"
      },
      "outputs": [],
      "source": [
        "best_params =[\n",
        "\n",
        "        {\n",
        "            'classifier': [lgb.LGBMClassifier(boosting_type='gbdt', n_jobs=4, importance_type='split',random_state=42)],\n",
        "            'classifier__objective': ['binary'],\n",
        "            'classifier__is_unbalance': [True],\n",
        "            'classifier__learning_rate' : [0.1],\n",
        "            'classifier__n_estimators' : [140],\n",
        "            'classifier__max_depth' : [15],\n",
        "            'classifier__colsample_bytree' : [0.5],\n",
        "            'classifier__reg_alpha' : [0.2],\n",
        "            'classifier__reg_lambda' : [1],\n",
        "        }\n",
        "]"
      ]
    },
    {
      "cell_type": "code",
      "execution_count": null,
      "metadata": {
        "colab": {
          "base_uri": "https://localhost:8080/",
          "height": 135
        },
        "id": "zjuZt0KSxfQE",
        "outputId": "a37b9d27-0c06-4ad1-9eab-6edd88762081"
      },
      "outputs": [],
      "source": [
        "data = {}\n",
        "pipeline = Pipeline(steps=[('classifier',RandomForestClassifier(random_state=42))])\n",
        "\n",
        "grid_search = GridSearchCV(pipeline, best_params, cv=10,\n",
        "                               scoring='roc_auc',\n",
        "                               return_train_score=True,n_jobs=4,verbose=2)\n",
        "grid_search.fit(X_train, y_train.ravel())"
      ]
    },
    {
      "cell_type": "code",
      "execution_count": null,
      "metadata": {
        "colab": {
          "base_uri": "https://localhost:8080/"
        },
        "id": "OYfi6zLRxrnf",
        "outputId": "3af7a933-7280-4472-c562-244cd62351a9"
      },
      "outputs": [],
      "source": [
        "print(grid_search.best_params_)\n",
        "print('Test accuracy: %.3f' % grid_search.score(X_test, y_test))"
      ]
    },
    {
      "cell_type": "code",
      "execution_count": null,
      "metadata": {
        "id": "fYxdJPOf4rN6"
      },
      "outputs": [],
      "source": [
        "data = {}\n",
        "y_pred_train = grid_search.best_estimator_.predict(X_train)\n",
        "data['best_precision_training'] = [precision_score(y_train, y_pred_train)] # TP / (FP + TP)\n",
        "data['best_recall_training'] = [recall_score(y_train, y_pred_train)]\t     # TP / (FN + TP)\n",
        "data['best_accuracy_training'] = [accuracy_score(y_train, y_pred_train)]\t # (TP + TN)/ (TP + FN + TN + FP)\n",
        "data['best_f1_training'] = [f1_score(y_train, y_pred_train)]\n",
        "# Confusion matrix\n",
        "y_pred = grid_search.best_estimator_.predict(X_test)\n",
        "data['best_precision_test'] = [precision_score(y_test, y_pred)] # TP / (FP + TP)\n",
        "data['best_recall_test'] = [recall_score(y_test, y_pred)]\t     # TP / (FN + TP)\n",
        "data['best_accuracy_test'] = [accuracy_score(y_test, y_pred)]\t # (TP + TN)/ (TP + FN + TN + FP)\n",
        "data['best_f1_test'] = [f1_score(y_test, y_pred)]"
      ]
    },
    {
      "cell_type": "code",
      "execution_count": null,
      "metadata": {
        "colab": {
          "base_uri": "https://localhost:8080/"
        },
        "id": "bT6AO1BG4sTX",
        "outputId": "97194e12-e452-46c9-b9d7-df59dabd9fa7"
      },
      "outputs": [],
      "source": [
        "data"
      ]
    },
    {
      "cell_type": "code",
      "execution_count": 19,
      "metadata": {},
      "outputs": [],
      "source": [
        "def plot_confusion_matrix(y_test,y_pred,name):\n",
        "    cm = confusion_matrix(y_test, y_pred)\n",
        "    plt.figure(figsize=(10,10))\n",
        "    ax = sns.heatmap(cm, annot=True, cmap='Greens', cbar=False, fmt='d',annot_kws={\"fontsize\":38})\n",
        "#     cbar = ax.collections[0].colorbar\n",
        "#     cbar.ax.tick_params(labelsize=18)\n",
        "    plt.xticks(fontsize=38)\n",
        "    plt.yticks(fontsize=38)\n",
        "    plt.savefig('cm_{}.png'.format(name))\n",
        "    plt.show()"
      ]
    },
    {
      "cell_type": "code",
      "execution_count": null,
      "metadata": {},
      "outputs": [],
      "source": [
        "plot_confusion_matrix(y_test,y_pred,\"Full features set\")"
      ]
    },
    {
      "cell_type": "code",
      "execution_count": 21,
      "metadata": {
        "id": "cvJ7zrei4s2l"
      },
      "outputs": [],
      "source": [
        "model = grid_search.best_estimator_"
      ]
    },
    {
      "cell_type": "code",
      "execution_count": null,
      "metadata": {
        "colab": {
          "base_uri": "https://localhost:8080/"
        },
        "id": "TJOaOyEy0UcQ",
        "outputId": "81ddf8fa-40bf-4225-ce38-f50a7ef0f47b"
      },
      "outputs": [],
      "source": [
        "df_X_train_full = pd.DataFrame(X_train,columns=df_transaction_weighted_opcode.columns[1:-1])\n",
        "df_X_test_full = pd.DataFrame(X_test,columns=df_transaction_weighted_opcode.columns[1:-1])\n",
        "\n",
        "df_X_train_full = df_X_train_full[best_features_set].copy()\n",
        "df_X_test_full = df_X_test_full[best_features_set].copy()\n",
        "\n",
        "model.fit(df_X_train_full,y_train.ravel())\n",
        "y_pred_proba_best = model.predict_proba(df_X_test_full)[:, 1]\n",
        "\n",
        "fpr, tpr, thresholds = roc_curve(y_test,y_pred_proba_best)\n",
        "auc_score = roc_auc_score(y_test,y_pred_proba_best)\n",
        "\n",
        "\n",
        "y_pred_best = model.predict(df_X_test_full)\n",
        "best_precision_test= precision_score(y_test, y_pred_best) # TP / (FP + TP)\n",
        "best_recall_test = recall_score(y_test, y_pred_best)\t     # TP / (FN + TP)\n",
        "best_accuracy_test = accuracy_score(y_test, y_pred_best)\t # (TP + TN)/ (TP + FN + TN + FP)\n",
        "best_f1_test = f1_score(y_test, y_pred_best)\n",
        "\n",
        "print('AUC: {:.3f}'.format(auc_score))\n",
        "print('Precision: {:.3f}'.format(best_precision_test))\n",
        "print('Recall: {:.3f}'.format(best_recall_test))\n",
        "print('Accuracy: {:.3f}'.format(best_accuracy_test))\n",
        "print('F1: {:.3f}'.format(best_f1_test))"
      ]
    },
    {
      "cell_type": "code",
      "execution_count": 25,
      "metadata": {
        "id": "hhZxOvBEZaxT"
      },
      "outputs": [],
      "source": [
        "np.set_printoptions(threshold=sys.maxsize)"
      ]
    },
    {
      "cell_type": "code",
      "execution_count": null,
      "metadata": {
        "colab": {
          "base_uri": "https://localhost:8080/",
          "height": 865
        },
        "id": "TL5HFbBrvGLm",
        "outputId": "d2cba758-ea1b-49af-daa4-8eae56c2fca2"
      },
      "outputs": [],
      "source": [
        "plot_confusion_matrix(y_test,y_pred_best,\"Best features set\")"
      ]
    },
    {
      "cell_type": "code",
      "execution_count": 28,
      "metadata": {},
      "outputs": [],
      "source": [
        "cls = grid_search.best_estimator_"
      ]
    },
    {
      "cell_type": "code",
      "execution_count": null,
      "metadata": {
        "colab": {
          "base_uri": "https://localhost:8080/"
        },
        "id": "MBd5yT993nAW",
        "outputId": "fdefff38-732b-491e-fc72-12ebf67e46e9"
      },
      "outputs": [],
      "source": [
        "explainer_tree = shap.TreeExplainer(cls.named_steps['classifier'])\n",
        "shap_values_tree = explainer_tree.shap_values(df_X_test_full)"
      ]
    },
    {
      "cell_type": "code",
      "execution_count": 30,
      "metadata": {
        "id": "qlMK2ULz4EK8"
      },
      "outputs": [],
      "source": [
        "def get_shaps(classifier, dataset):\n",
        "    print(dataset.shape)\n",
        "    explainer = shap.Explainer(classifier, dataset)\n",
        "    shap_values = explainer(dataset,check_additivity=False)\n",
        "\n",
        "    explainer_tree = shap.TreeExplainer(classifier)\n",
        "    shap_values_tree = explainer_tree.shap_values(dataset)\n",
        "    return shap_values,shap_values_tree"
      ]
    },
    {
      "cell_type": "code",
      "execution_count": 31,
      "metadata": {
        "id": "JD-qB7hO4HUe"
      },
      "outputs": [],
      "source": [
        "def plot_beeswarn(df,shap_values,filename,class_index=1):\n",
        "    shap.summary_plot(shap_values[class_index], df,show=False,max_display=12,color='red',color_bar=True,class_names=True)\n",
        "    fig = plt.gcf() # gcf means \"get current figure\"\n",
        "    ax = plt.gca() #gca means \"get current axes\"\n",
        "\n",
        "    fig.axes[1].yaxis.get_label().set_fontsize(24)\n",
        "    # fig.axes[1].set_fontsize(24)\n",
        "    plt.xlabel('SHAP value',fontsize=20)\n",
        "    plt.yticks(fontsize=20)\n",
        "    plt.xticks(fontsize=20)\n",
        "    plt.tight_layout()\n",
        "    plt.savefig('{}.png'.format(filename))"
      ]
    },
    {
      "cell_type": "code",
      "execution_count": 32,
      "metadata": {
        "colab": {
          "base_uri": "https://localhost:8080/"
        },
        "id": "yAKYLEUN4LOl",
        "outputId": "88e29532-c93a-486b-9836-4373b4b9a1f4"
      },
      "outputs": [],
      "source": [
        "explainer = shap.Explainer(cls.named_steps['classifier'], df_X_test_full)\n",
        "shap_values = explainer(df_X_test_full,check_additivity=False)"
      ]
    },
    {
      "cell_type": "code",
      "execution_count": null,
      "metadata": {
        "colab": {
          "base_uri": "https://localhost:8080/"
        },
        "id": "CoKglxr54WpO",
        "outputId": "a5a2d4f1-7b59-478b-8397-3107eb2025d9"
      },
      "outputs": [],
      "source": [
        "shap_values, shap_values_tree = get_shaps(cls.named_steps['classifier'], df_X_test_full)"
      ]
    },
    {
      "cell_type": "code",
      "execution_count": null,
      "metadata": {
        "colab": {
          "base_uri": "https://localhost:8080/",
          "height": 520
        },
        "id": "pwthllvG4h2W",
        "outputId": "7a31ee0f-899c-46ff-cc87-2fe437f43e17"
      },
      "outputs": [],
      "source": [
        "plot_beeswarn(df_X_test_full,shap_values_tree,'total',1)"
      ]
    },
    {
      "cell_type": "code",
      "execution_count": 35,
      "metadata": {
        "id": "KpLipYV3xsPG"
      },
      "outputs": [],
      "source": [
        "from sklearn.inspection import PartialDependenceDisplay"
      ]
    },
    {
      "cell_type": "code",
      "execution_count": 36,
      "metadata": {
        "id": "RLkj30SwxxB3"
      },
      "outputs": [],
      "source": [
        "top_twelve = [\n",
        " 'CALLDATALOAD',\n",
        " 'POP',\n",
        " 'DIV',\n",
        " 'SUB',\n",
        " 'GASLIMIT',\n",
        " 'paid_one',\n",
        " 'SGT',\n",
        " 'CALLVALUE',\n",
        " 'MULMOD',\n",
        " 'SWAP',\n",
        " 'tx_in',\n",
        " 'ORIGIN'\n",
        "]"
      ]
    },
    {
      "cell_type": "code",
      "execution_count": null,
      "metadata": {
        "colab": {
          "base_uri": "https://localhost:8080/",
          "height": 1000
        },
        "id": "cqRB6c-A1LS0",
        "outputId": "da5062eb-e0d6-4f3f-b598-55cb3ccec67c"
      },
      "outputs": [],
      "source": [
        "for x in top_twelve:\n",
        "    pdp_display = PartialDependenceDisplay.from_estimator(cls, df_X_test_full, [x])\n",
        "    plt.gca().set_facecolor('white')  # Set background color to white\n",
        "    pdp_display.plot(line_kw={'linewidth': 2})\n",
        "    plt.grid(color='gray', linestyle='-', linewidth=0.5)  # Add grid lines\n",
        "    plt.gca().xaxis.grid(True)  # Show grid for x-axis\n",
        "    plt.gca().yaxis.grid(True)  # Show grid for y-axis\n",
        "    plt.show()"
      ]
    },
    {
      "cell_type": "code",
      "execution_count": null,
      "metadata": {
        "id": "kJ2bbiRSYL7j"
      },
      "outputs": [],
      "source": [
        "y_pred_proba_best = model.predict_proba(df_X_test_full)[:, 1]"
      ]
    },
    {
      "cell_type": "code",
      "execution_count": null,
      "metadata": {
        "colab": {
          "base_uri": "https://localhost:8080/"
        },
        "id": "UFNA5wB00CKl",
        "outputId": "c3c0316b-caa2-4cfc-dbf3-58d2a17e14a1"
      },
      "outputs": [],
      "source": [
        "model.predict_proba"
      ]
    },
    {
      "cell_type": "code",
      "execution_count": null,
      "metadata": {
        "colab": {
          "base_uri": "https://localhost:8080/"
        },
        "id": "7Me-C1p1YVmf",
        "outputId": "b58d235f-b047-4a86-87ea-3b0df84eaae3"
      },
      "outputs": [],
      "source": [
        "y_pred_proba_best"
      ]
    },
    {
      "cell_type": "markdown",
      "metadata": {
        "id": "8bmiJswIr7yb"
      },
      "source": [
        "False Negative and False Positive"
      ]
    },
    {
      "cell_type": "code",
      "execution_count": 41,
      "metadata": {
        "id": "oeFiCf9GYlN0"
      },
      "outputs": [],
      "source": [
        "df_check = df_X_test_full.copy()\n",
        "df_check['prediction'] = y_pred\n",
        "df_check['label'] = y_test\n",
        "df_check['probability'] = y_pred_proba_best\n",
        "df_check['correct'] = df_check.apply(lambda x: 1 if x.prediction == x.label else 0,axis=1)\n",
        "df_check['address'] = df_X_test_adr"
      ]
    },
    {
      "cell_type": "code",
      "execution_count": null,
      "metadata": {
        "colab": {
          "base_uri": "https://localhost:8080/",
          "height": 487
        },
        "id": "Cf7snlKNsny9",
        "outputId": "5fe1c372-958f-4fe2-c382-cb266a4bfb57"
      },
      "outputs": [],
      "source": [
        "df_check"
      ]
    },
    {
      "cell_type": "markdown",
      "metadata": {
        "id": "9ctxH14-2Qgk"
      },
      "source": [
        "prediction\tlabel\tprobability"
      ]
    },
    {
      "cell_type": "code",
      "execution_count": null,
      "metadata": {
        "colab": {
          "base_uri": "https://localhost:8080/",
          "height": 1000
        },
        "id": "HGuXOpOZ1aCd",
        "outputId": "4e209ed3-d1f7-4fb6-fd0d-00f43ca41071"
      },
      "outputs": [],
      "source": [
        "df_check.sort_values(by=['probability'])"
      ]
    },
    {
      "cell_type": "code",
      "execution_count": null,
      "metadata": {
        "colab": {
          "base_uri": "https://localhost:8080/",
          "height": 637
        },
        "id": "6nZTpbyNtSNi",
        "outputId": "30d6b973-0355-45b1-d117-5050197e3ee1"
      },
      "outputs": [],
      "source": [
        "fig=plt.figure(figsize=(10,7))\n",
        "sns.histplot(data=df_check,x='probability',hue='label',bins=np.arange(0,1.1,0.1),stat='probability',common_norm=False)\n",
        "plt.xlabel('Estimated Probability being Ponzi',fontsize=18)\n",
        "plt.ylabel('Density',fontsize=18)\n",
        "plt.xticks(fontsize=14)\n",
        "plt.yticks(fontsize=14)\n",
        "\n",
        "plt.legend(loc='best',labels=['Ponzi','Not Ponzi'],fontsize=16)\n",
        "plt.savefig('distribution_probability.png')"
      ]
    },
    {
      "cell_type": "code",
      "execution_count": 45,
      "metadata": {
        "id": "ob41fnQetXob"
      },
      "outputs": [],
      "source": [
        "df_check['FP'] = df_check.apply(lambda x: 1 if x['prediction'] == 1 and x['correct'] ==0 else 0, axis=1 )\n",
        "df_check['FN'] = df_check.apply(lambda x: 1 if x['prediction'] == 0 and x['correct'] ==0 else 0, axis=1 )"
      ]
    },
    {
      "cell_type": "code",
      "execution_count": null,
      "metadata": {
        "colab": {
          "base_uri": "https://localhost:8080/",
          "height": 1000
        },
        "id": "HwkvTA0stbC8",
        "outputId": "6671e4b6-541c-4033-d55b-018cf4be9d20"
      },
      "outputs": [],
      "source": [
        "df_check"
      ]
    },
    {
      "cell_type": "code",
      "execution_count": 47,
      "metadata": {
        "id": "wmMMOy6xuBiI"
      },
      "outputs": [],
      "source": [
        "df_fp = df_check[df_check['FP']==1].copy()\n",
        "df_fn = df_check[df_check['FN']==1].copy()"
      ]
    },
    {
      "cell_type": "code",
      "execution_count": null,
      "metadata": {
        "colab": {
          "base_uri": "https://localhost:8080/",
          "height": 487
        },
        "id": "x7AKVVJVvRm7",
        "outputId": "22cdc2dc-86f1-40d2-92c3-e82b9ea596f9"
      },
      "outputs": [],
      "source": [
        "df_fp"
      ]
    },
    {
      "cell_type": "code",
      "execution_count": null,
      "metadata": {
        "colab": {
          "base_uri": "https://localhost:8080/"
        },
        "id": "3uNUrBLgrP9K",
        "outputId": "e26b0628-2eee-4ec9-c06c-dddc0f0ef233"
      },
      "outputs": [],
      "source": [
        "df_fp[\"address\"]"
      ]
    },
    {
      "cell_type": "code",
      "execution_count": null,
      "metadata": {
        "colab": {
          "base_uri": "https://localhost:8080/"
        },
        "id": "6tBuCXECshr_",
        "outputId": "09138928-0228-4336-be31-8ec9f931eb47"
      },
      "outputs": [],
      "source": [
        "df_fn[\"address\"]"
      ]
    },
    {
      "cell_type": "code",
      "execution_count": 79,
      "metadata": {},
      "outputs": [],
      "source": [
        "pd.set_option(\"display.max_columns\", 999)"
      ]
    },
    {
      "cell_type": "code",
      "execution_count": null,
      "metadata": {
        "colab": {
          "base_uri": "https://localhost:8080/",
          "height": 1000
        },
        "id": "synw5wWaMSPO",
        "outputId": "e080d34a-4522-42f7-a1d8-c9f62d5f2c82"
      },
      "outputs": [],
      "source": [
        "df_fn.sort_index()"
      ]
    },
    {
      "cell_type": "code",
      "execution_count": null,
      "metadata": {
        "colab": {
          "base_uri": "https://localhost:8080/",
          "height": 487
        },
        "id": "-1gL2uJLzWvp",
        "outputId": "bb7008c1-54a4-487e-befd-9b38250dd2b6"
      },
      "outputs": [],
      "source": [
        "df_fp"
      ]
    },
    {
      "cell_type": "code",
      "execution_count": 53,
      "metadata": {
        "id": "PjyoCeHEvMIZ"
      },
      "outputs": [],
      "source": [
        "df_shap_fn = df_fn.sort_values('probability',ascending=False)[df_X_test_full.columns].copy()"
      ]
    },
    {
      "cell_type": "code",
      "execution_count": null,
      "metadata": {
        "colab": {
          "base_uri": "https://localhost:8080/"
        },
        "id": "ZTgizssov85F",
        "outputId": "a672af67-fcc2-469e-ad09-06000510e017"
      },
      "outputs": [],
      "source": [
        "shap_fn, shap_fn_tree = get_shaps(cls.named_steps['classifier'],df_shap_fn)"
      ]
    },
    {
      "cell_type": "code",
      "execution_count": null,
      "metadata": {},
      "outputs": [],
      "source": [
        "plot_beeswarn(df_shap_fn,shap_fn_tree,'total',1)"
      ]
    },
    {
      "cell_type": "code",
      "execution_count": null,
      "metadata": {
        "colab": {
          "base_uri": "https://localhost:8080/",
          "height": 560
        },
        "id": "yeS6b4qRv4wW",
        "outputId": "0d61fe1d-196f-4109-d984-1f8ecf45905e"
      },
      "outputs": [],
      "source": [
        "shap.plots.bar(shap_fn[1],show_data=True)\n"
      ]
    },
    {
      "cell_type": "code",
      "execution_count": null,
      "metadata": {
        "colab": {
          "base_uri": "https://localhost:8080/"
        },
        "id": "KBAvGg4pwbJ0",
        "outputId": "42dafc48-dea1-4cb1-a561-6df178b88312"
      },
      "outputs": [],
      "source": [
        "df_shap_fp = df_fp.sort_values('probability',ascending=False)[df_X_test_full.columns].copy()\n",
        "shap_fp, shap_fp_tree = get_shaps(cls.named_steps['classifier'],df_shap_fp)"
      ]
    },
    {
      "cell_type": "code",
      "execution_count": null,
      "metadata": {},
      "outputs": [],
      "source": [
        "plot_beeswarn(df_shap_fp,shap_fp_tree,'total',1)"
      ]
    },
    {
      "cell_type": "code",
      "execution_count": null,
      "metadata": {
        "colab": {
          "base_uri": "https://localhost:8080/",
          "height": 582
        },
        "id": "X6jVuj3swoXc",
        "outputId": "1d846228-68dc-423e-8f90-29496fbf0b21"
      },
      "outputs": [],
      "source": [
        "shap.plots.bar(shap_fp[4],show_data=True)"
      ]
    },
    {
      "cell_type": "code",
      "execution_count": null,
      "metadata": {
        "colab": {
          "base_uri": "https://localhost:8080/",
          "height": 194
        },
        "id": "Y2Obb5QXlmxG",
        "outputId": "e0704653-a77f-4b83-8444-67f78734fb4f"
      },
      "outputs": [],
      "source": [
        "shap.initjs()\n",
        "shap.force_plot(shap_fp[1])\n"
      ]
    },
    {
      "cell_type": "code",
      "execution_count": null,
      "metadata": {
        "colab": {
          "base_uri": "https://localhost:8080/",
          "height": 86
        },
        "id": "N1c4sdy-zjDj",
        "outputId": "35699b02-9306-4b00-d8ac-25f96866818a"
      },
      "outputs": [],
      "source": [
        "\n",
        "shap.force_plot(shap_fp[1])"
      ]
    },
    {
      "cell_type": "markdown",
      "metadata": {
        "id": "uy3phFyGCU_x"
      },
      "source": [
        "PDP with SHAP"
      ]
    },
    {
      "cell_type": "code",
      "execution_count": null,
      "metadata": {},
      "outputs": [],
      "source": [
        "top_twelve"
      ]
    },
    {
      "cell_type": "code",
      "execution_count": null,
      "metadata": {
        "colab": {
          "base_uri": "https://localhost:8080/",
          "height": 466
        },
        "id": "xnEaxVE1NFNT",
        "outputId": "86059684-4151-404b-bc22-f5550ca2972c"
      },
      "outputs": [],
      "source": [
        "shap.dependence_plot(\"CALLDATALOAD\", shap_values_tree[1], df_X_test_full)"
      ]
    },
    {
      "cell_type": "code",
      "execution_count": null,
      "metadata": {
        "colab": {
          "base_uri": "https://localhost:8080/",
          "height": 466
        },
        "id": "hMxjbYKRN9FS",
        "outputId": "46fb37bb-8fef-4ff8-9a29-4038bc273539"
      },
      "outputs": [],
      "source": [
        "shap.dependence_plot(\"tx_in\", shap_values_tree[1], df_X_test_full)"
      ]
    },
    {
      "cell_type": "code",
      "execution_count": null,
      "metadata": {
        "colab": {
          "base_uri": "https://localhost:8080/",
          "height": 466
        },
        "id": "r2b3zB61PWUI",
        "outputId": "955e30e1-ed96-46ce-9c78-f1c9628856af"
      },
      "outputs": [],
      "source": [
        "shap.dependence_plot(\"tx_in\", shap_values_tree[1], df_X_test_full,  interaction_index=None)"
      ]
    }
  ],
  "metadata": {
    "colab": {
      "provenance": []
    },
    "kernelspec": {
      "display_name": "Python 3",
      "language": "python",
      "name": "python3"
    },
    "language_info": {
      "codemirror_mode": {
        "name": "ipython",
        "version": 3
      },
      "file_extension": ".py",
      "mimetype": "text/x-python",
      "name": "python",
      "nbconvert_exporter": "python",
      "pygments_lexer": "ipython3",
      "version": "3.11.5"
    },
    "vscode": {
      "interpreter": {
        "hash": "31f2aee4e71d21fbe5cf8b01ff0e069b9275f58929596ceb00d14d90e3e16cd6"
      }
    }
  },
  "nbformat": 4,
  "nbformat_minor": 0
}
